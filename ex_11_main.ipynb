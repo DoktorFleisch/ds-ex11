{
 "cells": [
  {
   "cell_type": "code",
   "execution_count": 33,
   "id": "initial_id",
   "metadata": {
    "collapsed": true,
    "ExecuteTime": {
     "end_time": "2024-01-15T21:20:19.197760300Z",
     "start_time": "2024-01-15T21:20:18.980341200Z"
    }
   },
   "outputs": [
    {
     "name": "stdout",
     "output_type": "stream",
     "text": [
      "The autoreload extension is already loaded. To reload it, use:\n",
      "  %reload_ext autoreload\n"
     ]
    }
   ],
   "source": [
    "%load_ext autoreload\n",
    "%autoreload 2\n",
    "import numpy as np\n",
    "from sklearn.datasets import load_iris\n",
    "import matplotlib.pyplot as plt\n",
    "import pandas as pd\n",
    "import seaborn as sns\n",
    "import BFR_ex_1 as bfr"
   ]
  },
  {
   "cell_type": "code",
   "execution_count": 34,
   "outputs": [],
   "source": [
    "iris = load_iris()\n",
    "X = iris.data\n",
    "y = iris.target"
   ],
   "metadata": {
    "collapsed": false,
    "ExecuteTime": {
     "end_time": "2024-01-15T21:20:19.318436600Z",
     "start_time": "2024-01-15T21:20:19.197760300Z"
    }
   },
   "id": "cd6904f9f8f3336"
  },
  {
   "cell_type": "code",
   "execution_count": 35,
   "outputs": [],
   "source": [
    "df_x = pd.DataFrame(X, columns=iris.feature_names)\n",
    "df_y = pd.DataFrame(y, columns=['Species'])"
   ],
   "metadata": {
    "collapsed": false,
    "ExecuteTime": {
     "end_time": "2024-01-15T21:20:19.427146900Z",
     "start_time": "2024-01-15T21:20:19.320432700Z"
    }
   },
   "id": "f521f21a86867c70"
  },
  {
   "cell_type": "code",
   "execution_count": 36,
   "outputs": [
    {
     "data": {
      "text/plain": "   sepal length (cm)  sepal width (cm)  petal length (cm)  petal width (cm)\n0                5.1               3.5                1.4               0.2\n1                4.9               3.0                1.4               0.2\n2                4.7               3.2                1.3               0.2\n3                4.6               3.1                1.5               0.2\n4                5.0               3.6                1.4               0.2",
      "text/html": "<div>\n<style scoped>\n    .dataframe tbody tr th:only-of-type {\n        vertical-align: middle;\n    }\n\n    .dataframe tbody tr th {\n        vertical-align: top;\n    }\n\n    .dataframe thead th {\n        text-align: right;\n    }\n</style>\n<table border=\"1\" class=\"dataframe\">\n  <thead>\n    <tr style=\"text-align: right;\">\n      <th></th>\n      <th>sepal length (cm)</th>\n      <th>sepal width (cm)</th>\n      <th>petal length (cm)</th>\n      <th>petal width (cm)</th>\n    </tr>\n  </thead>\n  <tbody>\n    <tr>\n      <th>0</th>\n      <td>5.1</td>\n      <td>3.5</td>\n      <td>1.4</td>\n      <td>0.2</td>\n    </tr>\n    <tr>\n      <th>1</th>\n      <td>4.9</td>\n      <td>3.0</td>\n      <td>1.4</td>\n      <td>0.2</td>\n    </tr>\n    <tr>\n      <th>2</th>\n      <td>4.7</td>\n      <td>3.2</td>\n      <td>1.3</td>\n      <td>0.2</td>\n    </tr>\n    <tr>\n      <th>3</th>\n      <td>4.6</td>\n      <td>3.1</td>\n      <td>1.5</td>\n      <td>0.2</td>\n    </tr>\n    <tr>\n      <th>4</th>\n      <td>5.0</td>\n      <td>3.6</td>\n      <td>1.4</td>\n      <td>0.2</td>\n    </tr>\n  </tbody>\n</table>\n</div>"
     },
     "execution_count": 36,
     "metadata": {},
     "output_type": "execute_result"
    }
   ],
   "source": [
    "df_x.head()"
   ],
   "metadata": {
    "collapsed": false,
    "ExecuteTime": {
     "end_time": "2024-01-15T21:20:19.550815600Z",
     "start_time": "2024-01-15T21:20:19.428144400Z"
    }
   },
   "id": "1b0dc99b64a4726b"
  },
  {
   "cell_type": "code",
   "execution_count": 37,
   "outputs": [
    {
     "name": "stdout",
     "output_type": "stream",
     "text": [
      "   Species\n",
      "0        0\n",
      "1        0\n",
      "2        0\n",
      "3        0\n",
      "4        0\n"
     ]
    }
   ],
   "source": [
    "print(df_y.head())"
   ],
   "metadata": {
    "collapsed": false,
    "ExecuteTime": {
     "end_time": "2024-01-15T21:20:19.718366900Z",
     "start_time": "2024-01-15T21:20:19.552810600Z"
    }
   },
   "id": "3c0d14a255af207d"
  },
  {
   "cell_type": "code",
   "execution_count": 38,
   "outputs": [
    {
     "name": "stdout",
     "output_type": "stream",
     "text": [
      "(150, 4)\n"
     ]
    }
   ],
   "source": [
    "print(df_x.shape)"
   ],
   "metadata": {
    "collapsed": false,
    "ExecuteTime": {
     "end_time": "2024-01-15T21:20:19.935786300Z",
     "start_time": "2024-01-15T21:20:19.692437500Z"
    }
   },
   "id": "18c95ebfe4a4f832"
  },
  {
   "cell_type": "code",
   "execution_count": 39,
   "outputs": [],
   "source": [
    "# merge df_x and df_y\n",
    "df = pd.concat([df_x, df_y], axis=1)"
   ],
   "metadata": {
    "collapsed": false,
    "ExecuteTime": {
     "end_time": "2024-01-15T21:20:20.059455600Z",
     "start_time": "2024-01-15T21:20:19.935786300Z"
    }
   },
   "id": "6925c7f553d826fb"
  },
  {
   "cell_type": "code",
   "execution_count": 40,
   "outputs": [
    {
     "name": "stdout",
     "output_type": "stream",
     "text": [
      "   sepal length (cm)  sepal width (cm)  petal length (cm)  petal width (cm)  \\\n",
      "0                5.1               3.5                1.4               0.2   \n",
      "1                4.9               3.0                1.4               0.2   \n",
      "2                4.7               3.2                1.3               0.2   \n",
      "3                4.6               3.1                1.5               0.2   \n",
      "4                5.0               3.6                1.4               0.2   \n",
      "\n",
      "   Species  \n",
      "0        0  \n",
      "1        0  \n",
      "2        0  \n",
      "3        0  \n",
      "4        0  \n"
     ]
    }
   ],
   "source": [
    "print(df.head())"
   ],
   "metadata": {
    "collapsed": false,
    "ExecuteTime": {
     "end_time": "2024-01-15T21:20:20.201077800Z",
     "start_time": "2024-01-15T21:20:20.060452800Z"
    }
   },
   "id": "632aafe44065dd19"
  },
  {
   "cell_type": "code",
   "execution_count": 41,
   "outputs": [
    {
     "data": {
      "text/plain": "<Figure size 640x480 with 1 Axes>",
      "image/png": "[encoded data removed]"
     },
     "metadata": {},
     "output_type": "display_data"
    }
   ],
   "source": [
    "class_names = ['Setosa', 'Versicolor', 'Virginica']\n",
    "\n",
    "# Scatter-Plot erstellen\n",
    "scatter = plt.scatter(X[:, 0], X[:, 1], c=y, cmap='gist_rainbow')\n",
    "\n",
    "# Achsentitel hinzufügen\n",
    "plt.xlabel('Sepal Length', fontsize=18)\n",
    "plt.ylabel('Sepal Width', fontsize=18)\n",
    "\n",
    "# Legende hinzufügen\n",
    "plt.legend(handles=scatter.legend_elements()[0], labels=['Setosa', 'Versicolor', 'Virginica'])\n",
    "\n",
    "# Plot anzeigen\n",
    "plt.show()\n",
    "\n"
   ],
   "metadata": {
    "collapsed": false,
    "ExecuteTime": {
     "end_time": "2024-01-15T21:20:20.581060200Z",
     "start_time": "2024-01-15T21:20:20.198084800Z"
    }
   },
   "id": "ec698190185f38b0"
  },
  {
   "cell_type": "markdown",
   "source": [
    "1. Der BFR-Algorithmus geht davon aus,dass wir bereits k Cluster besitzen.\n",
    "2. Nach der VL lesen wir Chunks von Daten ein, die wir in den Speicher laden, und dann den Algorithmus darauf anwenden.\n",
    "3. Wir haben 3 Sets: Discard Set, Compression Set und Retained Set.\n",
    "4. Für jeden Chunk berechnen wir für jeden Punkt die Distanz zu den Clustern aus, falls diese \"nahe\" genug sind, wird der Punkt dem Cluster und dem DS-set hinzugefügt. Update die Statistiken des Clusters (N, SUM, SUMSQ).\n",
    "5. Cluster die verbliebenden Punkte, und die aus dem vorherigen Retained-Set mit K-means. Entstehende Cluster gehen in die Compression-Liste, outliers in die Retained-Liste.\n",
    "6. Ggf. Merge Clusters aus der Compression-Liste, falls sie zu nah beieinander liegen. Ist dies die letzte Iteration, merge alle Cluster in CS und weise den verbleibenden Punkten aus RS einem Cluster zu.\n",
    "\n",
    "Zu 4: Mit \"Nahe\" bestimmen wir die Mahalanobis-Distanz. Wir berechnen die Distanz zu jedem Cluster, und wählen den kleinsten Wert. Ist dieser kleiner als ein Schwellwert, wird der Punkt dem Cluster zugeordnet. Die Distanz wird wie folgt berechnet:\n",
    "\n",
    "Cluster C hat centroid c (c_1,...,c_d) mit der Standartabweichung (sigma_1,..,sigma_d) mit d = anzahl Dimensionen. Punkt p = (x_1,...,x_d).\n",
    "Die normalisierte Distanz ist für Dimension i ist dann:\n",
    "\n",
    "y_i = $\\frac{{x_i - c_i}}{{\\sigma_i}}$\n",
    "\n",
    "Die Mahalanobis-Distanz eines Punktes P zum Cluster C ist dann:\n",
    "\n",
    "$\\sqrt{\\sum_{i=1}^{d} y_i^2}$\n",
    "\n",
    "Wir fügen den Punkt dem Cluster hinzu, falls die Distanz kleiner als ein Schwellwert ist.\n",
    "\n",
    "Zu 6: Wir berechnen die Varianz der potentiellen gemergten Cluster. Ist diese kleiner als ein Schwellwert, werden die Cluster gemerged. Die Varianz berechnet sich wie folgt aus N, SUM und SUMSQ: \n",
    "\n",
    "\n",
    "$(\\frac{SUMSQ_i}{N}) - (\\frac{SUM_I}{N})^2$\n",
    "\n",
    "$\\mathbf{Anmerkung:}$ Centroids werden berechnet mit SUM_i/N wobei SUM_i die Summe der Punkte in Dimension i ist."
   ],
   "metadata": {
    "collapsed": false
   },
   "id": "3e1a15406f12316e"
  },
  {
   "cell_type": "code",
   "execution_count": 42,
   "outputs": [],
   "source": [
    "bfr = bfr.BFR(k=3, data=X)"
   ],
   "metadata": {
    "collapsed": false,
    "ExecuteTime": {
     "end_time": "2024-01-15T21:20:20.712708100Z",
     "start_time": "2024-01-15T21:20:20.561113700Z"
    }
   },
   "id": "35bf65b9de5909ab"
  },
  {
   "cell_type": "code",
   "execution_count": 43,
   "outputs": [
    {
     "name": "stderr",
     "output_type": "stream",
     "text": [
      "C:\\Users\\danie\\Documents\\Uni\\Semester 13\\Datascience 2\\ex11\\venv\\lib\\site-packages\\sklearn\\cluster\\_kmeans.py:1416: FutureWarning: The default value of `n_init` will change from 10 to 'auto' in 1.4. Set the value of `n_init` explicitly to suppress the warning\n",
      "  super()._check_params_vs_input(X, default_n_init=10)\n"
     ]
    }
   ],
   "source": [
    "ds = bfr.select_k_random_points(X)"
   ],
   "metadata": {
    "collapsed": false,
    "ExecuteTime": {
     "end_time": "2024-01-15T21:20:20.919156Z",
     "start_time": "2024-01-15T21:20:20.703732800Z"
    }
   },
   "id": "500ad7f7f0693526"
  },
  {
   "cell_type": "code",
   "execution_count": 44,
   "outputs": [
    {
     "name": "stdout",
     "output_type": "stream",
     "text": [
      "[{'SUM': array([5.9016129 , 2.7483871 , 4.39354839, 1.43387097]), 'SUMQ': array([34.82903486,  7.55363163, 19.30326743,  2.05598595]), 'N': 1}, {'SUM': array([5.006, 3.428, 1.462, 0.246]), 'SUMQ': array([25.060036, 11.751184,  2.137444,  0.060516]), 'N': 1}, {'SUM': array([6.85      , 3.07368421, 5.74210526, 2.07105263]), 'SUMQ': array([46.9225    ,  9.44753463, 32.97177285,  4.289259  ]), 'N': 1}]\n"
     ]
    }
   ],
   "source": [
    "print(ds)"
   ],
   "metadata": {
    "collapsed": false,
    "ExecuteTime": {
     "end_time": "2024-01-15T21:20:21.134581600Z",
     "start_time": "2024-01-15T21:20:20.922148100Z"
    }
   },
   "id": "f38618280762691"
  },
  {
   "cell_type": "code",
   "execution_count": 45,
   "outputs": [
    {
     "name": "stdout",
     "output_type": "stream",
     "text": [
      "{'SUM': array([5.9016129 , 2.7483871 , 4.39354839, 1.43387097]), 'SUMQ': array([34.82903486,  7.55363163, 19.30326743,  2.05598595]), 'N': 1}\n"
     ]
    }
   ],
   "source": [
    "print(ds[0])"
   ],
   "metadata": {
    "collapsed": false,
    "ExecuteTime": {
     "end_time": "2024-01-15T21:20:21.270217300Z",
     "start_time": "2024-01-15T21:20:21.131588500Z"
    }
   },
   "id": "145c68e0d85844c5"
  },
  {
   "cell_type": "code",
   "execution_count": 45,
   "outputs": [],
   "source": [],
   "metadata": {
    "collapsed": false,
    "ExecuteTime": {
     "end_time": "2024-01-15T21:20:21.311106500Z",
     "start_time": "2024-01-15T21:20:21.269219100Z"
    }
   },
   "id": "f963589f9872dbe3"
  }
 ],
 "metadata": {
  "kernelspec": {
   "display_name": "Python 3",
   "language": "python",
   "name": "python3"
  },
  "language_info": {
   "codemirror_mode": {
    "name": "ipython",
    "version": 2
   },
   "file_extension": ".py",
   "mimetype": "text/x-python",
   "name": "python",
   "nbconvert_exporter": "python",
   "pygments_lexer": "ipython2",
   "version": "2.7.6"
  }
 },
 "nbformat": 4,
 "nbformat_minor": 5
}
